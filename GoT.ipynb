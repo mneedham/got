{
 "cells": [
  {
   "cell_type": "code",
   "execution_count": 8,
   "metadata": {},
   "outputs": [],
   "source": [
    "from neo4j import GraphDatabase\n",
    "from py2neo import Graph\n",
    "import pandas as pd"
   ]
  },
  {
   "cell_type": "code",
   "execution_count": 15,
   "metadata": {},
   "outputs": [],
   "source": [
    "driver = GraphDatabase.driver(\"bolt://62eee17d.databases.neo4j.io\", auth=(\"got\", \"got\"))"
   ]
  },
  {
   "cell_type": "code",
   "execution_count": 55,
   "metadata": {},
   "outputs": [
    {
     "data": {
      "text/html": [
       "<div>\n",
       "<style scoped>\n",
       "    .dataframe tbody tr th:only-of-type {\n",
       "        vertical-align: middle;\n",
       "    }\n",
       "\n",
       "    .dataframe tbody tr th {\n",
       "        vertical-align: top;\n",
       "    }\n",
       "\n",
       "    .dataframe thead th {\n",
       "        text-align: right;\n",
       "    }\n",
       "</style>\n",
       "<table border=\"1\" class=\"dataframe\">\n",
       "  <thead>\n",
       "    <tr style=\"text-align: right;\">\n",
       "      <th></th>\n",
       "      <th>book1PageRank</th>\n",
       "      <th>book2PageRank</th>\n",
       "      <th>book3PageRank</th>\n",
       "      <th>deadRelated</th>\n",
       "      <th>deathsInHouse</th>\n",
       "      <th>isDead</th>\n",
       "      <th>numberOfBattles</th>\n",
       "      <th>person</th>\n",
       "    </tr>\n",
       "  </thead>\n",
       "  <tbody>\n",
       "    <tr>\n",
       "      <th>0</th>\n",
       "      <td>0.15</td>\n",
       "      <td>0.15</td>\n",
       "      <td>0.15</td>\n",
       "      <td>0</td>\n",
       "      <td>0</td>\n",
       "      <td>False</td>\n",
       "      <td>0</td>\n",
       "      <td>Shierle Swyft</td>\n",
       "    </tr>\n",
       "    <tr>\n",
       "      <th>1</th>\n",
       "      <td>0.15</td>\n",
       "      <td>0.15</td>\n",
       "      <td>0.15</td>\n",
       "      <td>0</td>\n",
       "      <td>0</td>\n",
       "      <td>False</td>\n",
       "      <td>0</td>\n",
       "      <td>Steffon Swyft</td>\n",
       "    </tr>\n",
       "    <tr>\n",
       "      <th>2</th>\n",
       "      <td>0.15</td>\n",
       "      <td>0.15</td>\n",
       "      <td>0.15</td>\n",
       "      <td>0</td>\n",
       "      <td>0</td>\n",
       "      <td>False</td>\n",
       "      <td>0</td>\n",
       "      <td>Harys Swyft</td>\n",
       "    </tr>\n",
       "    <tr>\n",
       "      <th>3</th>\n",
       "      <td>0.15</td>\n",
       "      <td>0.15</td>\n",
       "      <td>0.15</td>\n",
       "      <td>0</td>\n",
       "      <td>0</td>\n",
       "      <td>False</td>\n",
       "      <td>0</td>\n",
       "      <td>Jocelyn Swyft</td>\n",
       "    </tr>\n",
       "    <tr>\n",
       "      <th>4</th>\n",
       "      <td>0.15</td>\n",
       "      <td>0.15</td>\n",
       "      <td>0.15</td>\n",
       "      <td>0</td>\n",
       "      <td>0</td>\n",
       "      <td>False</td>\n",
       "      <td>0</td>\n",
       "      <td>Joanna Swyft</td>\n",
       "    </tr>\n",
       "  </tbody>\n",
       "</table>\n",
       "</div>"
      ],
      "text/plain": [
       "   book1PageRank  book2PageRank  book3PageRank  deadRelated  deathsInHouse  \\\n",
       "0           0.15           0.15           0.15            0              0   \n",
       "1           0.15           0.15           0.15            0              0   \n",
       "2           0.15           0.15           0.15            0              0   \n",
       "3           0.15           0.15           0.15            0              0   \n",
       "4           0.15           0.15           0.15            0              0   \n",
       "\n",
       "   isDead  numberOfBattles         person  \n",
       "0   False                0  Shierle Swyft  \n",
       "1   False                0  Steffon Swyft  \n",
       "2   False                0    Harys Swyft  \n",
       "3   False                0  Jocelyn Swyft  \n",
       "4   False                0   Joanna Swyft  "
      ]
     },
     "metadata": {},
     "output_type": "display_data"
    }
   ],
   "source": [
    "with driver.session() as session:\n",
    "    result = session.run(\"\"\"\n",
    "    MATCH (p:Person)-->(h:House)\n",
    "    RETURN p.name AS person, \n",
    "           size((h)<--(:Person:Dead)) as deathsInHouse, \n",
    "           size((p)--(:Person:Dead)) as deadRelated, \n",
    "           size((p)--(:Battle)) as numberOfBattles,\n",
    "           p.book1PageRank AS book1PageRank,\n",
    "           p.book2PageRank AS book2PageRank,\n",
    "           p.book3PageRank AS book3PageRank,\n",
    "           p:Dead as  isDead\n",
    "    \"\"\")\n",
    "    df = pd.DataFrame([dict(record) for record in result])\n",
    "    \n",
    "display(df.head())    "
   ]
  },
  {
   "cell_type": "code",
   "execution_count": 63,
   "metadata": {},
   "outputs": [],
   "source": [
    "columns = ['deathsInHouse', \"deadRelated\", \"numberOfBattles\", \"book1PageRank\", \"book2PageRank\", \"book3PageRank\"]\n",
    "X = df[columns]\n",
    "y = df[['isDead']]"
   ]
  },
  {
   "cell_type": "code",
   "execution_count": 64,
   "metadata": {},
   "outputs": [],
   "source": [
    "from sklearn.model_selection import train_test_split\n",
    "\n",
    "X_train, X_test, y_train, y_test = train_test_split(X, y, test_size=0.25, random_state=1)"
   ]
  },
  {
   "cell_type": "code",
   "execution_count": 65,
   "metadata": {},
   "outputs": [
    {
     "data": {
      "text/plain": [
       "0.7861842105263158"
      ]
     },
     "metadata": {},
     "output_type": "display_data"
    },
    {
     "data": {
      "text/plain": [
       "0.7317073170731707"
      ]
     },
     "metadata": {},
     "output_type": "display_data"
    },
    {
     "data": {
      "text/plain": [
       "0.14018691588785046"
      ]
     },
     "metadata": {},
     "output_type": "display_data"
    }
   ],
   "source": [
    "import time\n",
    "from sklearn.metrics import accuracy_score\n",
    "from sklearn.metrics import precision_score\n",
    "from sklearn.metrics import recall_score\n",
    "from sklearn.ensemble import RandomForestClassifier\n",
    "\n",
    "random_forest = RandomForestClassifier(n_estimators=30, max_depth=10, random_state=1)\n",
    "random_forest.fit(X_train, y_train.values.ravel())\n",
    "\n",
    "y_predict = random_forest.predict(X_test)\n",
    "\n",
    "display(accuracy_score(y_test, y_predict))\n",
    "display(precision_score(y_test, y_predict, average=\"binary\"))\n",
    "display(recall_score(y_test, y_predict, average=\"binary\"))"
   ]
  },
  {
   "cell_type": "code",
   "execution_count": 66,
   "metadata": {},
   "outputs": [
    {
     "name": "stdout",
     "output_type": "stream",
     "text": [
      "deathsInHouse 0.5216250247319187\n",
      "deadRelated 0.14162603942595467\n",
      "numberOfBattles 0.05963185444871031\n",
      "book1PageRank 0.0977218784454429\n",
      "book2PageRank 0.10830071831882249\n",
      "book3PageRank 0.07109448462915083\n"
     ]
    }
   ],
   "source": [
    "for score, feature in zip(random_forest.feature_importances_, columns):\n",
    "    print(feature, score)"
   ]
  }
 ],
 "metadata": {
  "kernelspec": {
   "display_name": "Python 3",
   "language": "python",
   "name": "python3"
  },
  "language_info": {
   "codemirror_mode": {
    "name": "ipython",
    "version": 3
   },
   "file_extension": ".py",
   "mimetype": "text/x-python",
   "name": "python",
   "nbconvert_exporter": "python",
   "pygments_lexer": "ipython3",
   "version": "3.6.5"
  }
 },
 "nbformat": 4,
 "nbformat_minor": 2
}
